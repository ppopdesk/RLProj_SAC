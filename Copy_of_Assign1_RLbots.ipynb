{
  "nbformat": 4,
  "nbformat_minor": 0,
  "metadata": {
    "colab": {
      "name": "Copy of Assign1_RLbots.ipynb",
      "provenance": [],
      "collapsed_sections": [],
      "include_colab_link": true
    },
    "kernelspec": {
      "name": "python3",
      "display_name": "Python 3"
    },
    "language_info": {
      "name": "python"
    }
  },
  "cells": [
    {
      "cell_type": "markdown",
      "metadata": {
        "id": "view-in-github",
        "colab_type": "text"
      },
      "source": [
        "<a href=\"https://colab.research.google.com/github/ppopdesk/RLProj_SAC/blob/main/Copy_of_Assign1_RLbots.ipynb\" target=\"_parent\"><img src=\"https://colab.research.google.com/assets/colab-badge.svg\" alt=\"Open In Colab\"/></a>"
      ]
    },
    {
      "cell_type": "markdown",
      "source": [
        "Numpy is the main package for scientific computing in Python. It is maintained by a large community (www.numpy.org). In this exercise you will learn several key numpy functions such as np.exp, np.log, and np.reshape. You will need to know how to use these functions for future assignments.\n"
      ],
      "metadata": {
        "id": "CdQTFao23YCr"
      }
    },
    {
      "cell_type": "markdown",
      "source": [
        "**CREATE A NUMPY ARRAY FROM A LIST**"
      ],
      "metadata": {
        "id": "eJV3ud_o54b_"
      }
    },
    {
      "cell_type": "code",
      "source": [
        "import numpy as np \n",
        "#create a numpy array of numbers {0,1,2,3,4,5,6} and print the array\n",
        "\n",
        "#YOUR CODE STARTS HERE \n",
        "i = [0,1,2,3,4,5,6]\n",
        "arr = np.array(i)\n",
        "print(arr)\n",
        "\n",
        "#YOUR CODE ENDS HERE\n",
        "\n"
      ],
      "metadata": {
        "id": "biOFDZFr6GeI",
        "colab": {
          "base_uri": "https://localhost:8080/"
        },
        "outputId": "44dfd209-fb79-4f23-d648-dd08ef0edeef"
      },
      "execution_count": 1,
      "outputs": [
        {
          "output_type": "stream",
          "name": "stdout",
          "text": [
            "[0 1 2 3 4 5 6]\n"
          ]
        }
      ]
    },
    {
      "cell_type": "markdown",
      "source": [
        "**PRINT ALTERNATE ELEMENTS OF A NUMPY ARRAY**"
      ],
      "metadata": {
        "id": "1IRyMbnh6dWD"
      }
    },
    {
      "cell_type": "code",
      "source": [
        "import numpy as np\n",
        "\n",
        "#create a numpy array of number {7,8,5,10,1,2,3,4} and print alternate elements of this array using for loop.\n",
        "\n",
        "#YOUR CODE STARTS HERE\n",
        "i = [0,1,2,3,4,5,6]\n",
        "arr = np.array(i)\n",
        "for i in range(0,len(arr),2):\n",
        "  print(i)\n",
        "#YOUR CODE ENDS HERE"
      ],
      "metadata": {
        "id": "FXTnLR4o6sKr",
        "colab": {
          "base_uri": "https://localhost:8080/"
        },
        "outputId": "c41ea570-d326-4b4d-99a8-1195c4c3236e"
      },
      "execution_count": 2,
      "outputs": [
        {
          "output_type": "stream",
          "name": "stdout",
          "text": [
            "0\n",
            "2\n",
            "4\n",
            "6\n"
          ]
        }
      ]
    },
    {
      "cell_type": "markdown",
      "source": [
        "**ALTERNATE ELEMENTS USING SLICING**"
      ],
      "metadata": {
        "id": "4ocBycO47Am6"
      }
    },
    {
      "cell_type": "code",
      "source": [
        "import numpy as np \n",
        "#create a numpy array of number {7,8,5,10,1,2,3,4} and print alternate elements of this array using slicing.Google for more information.\n",
        "\n",
        "#YOUR CODE STARTS HERE\n",
        "arr = np.array([7,8,5,10,1,2,3,4])\n",
        "print(arr[1::2])\n",
        "#YOUR CODE ENDS HERE\n"
      ],
      "metadata": {
        "id": "QzCGW4587KiC",
        "colab": {
          "base_uri": "https://localhost:8080/"
        },
        "outputId": "91568a15-6c09-4198-ddcc-25284ab77593"
      },
      "execution_count": 4,
      "outputs": [
        {
          "output_type": "stream",
          "name": "stdout",
          "text": [
            "[ 8 10  2  4]\n"
          ]
        }
      ]
    },
    {
      "cell_type": "markdown",
      "source": [
        "**NUMPY COPY VS NUMPY VIEW**"
      ],
      "metadata": {
        "id": "-Pq0Oc0I7W6c"
      }
    },
    {
      "cell_type": "code",
      "source": [
        "import numpy as np \n",
        "# create a numpy array of numbers {10,9,11,2,3,4,5} . Create a copy of this array using numpy copy. Then multiply the copy array by 2 . print both the arrays\n",
        "\n",
        "#YOUR CODE STARTS HERE\n",
        "arr = np.array([10,9,11,2,3,4,5])\n",
        "arr1 = np.copy(arr)\n",
        "arr1 = arr1*2\n",
        "print(arr)\n",
        "print(arr1)\n",
        "#YOUR CODE ENDS HERE\n",
        "\n",
        "\n",
        "# create a numpy array of numbers {10,9,11,2,3,4,5} . Create a view of this array using numpy view. Then multiply the view array by 2 . print both the arrays\n",
        "\n",
        "#YOUR CODE STARTS HERE\n",
        "arr = np.array([10,9,11,2,3,4,5])\n",
        "arr1 = arr.view()\n",
        "for i in range(len(arr1)):\n",
        "  arr[i] *=2\n",
        "print(arr)\n",
        "print(arr1)\n",
        "\n",
        "#YOUR CODE ENDS HERE\n"
      ],
      "metadata": {
        "id": "ZnRZqCaj7j9S"
      },
      "execution_count": null,
      "outputs": []
    },
    {
      "cell_type": "markdown",
      "source": [
        "**SHAPE AND RESHAPE**"
      ],
      "metadata": {
        "id": "mFLi6ukN8El3"
      }
    },
    {
      "cell_type": "code",
      "source": [
        "import numpy as np \n",
        "#create a numpy array of numbers {1,2,3,4,5,6,7,8}. Print the shape of this array.Convert this array to a new array of size 4*2 . Print the shape of new array\n",
        "arr=np.array([1,2,3,4,5,6,7,8])\n",
        "print(arr.shape)\n",
        "arr=arr.reshape(4,2)\n",
        "print(arr.shape)\n"
      ],
      "metadata": {
        "id": "IgsGfpZz8YVX",
        "colab": {
          "base_uri": "https://localhost:8080/"
        },
        "outputId": "412517e5-47b4-47a6-b958-0523e92f2e5d"
      },
      "execution_count": 5,
      "outputs": [
        {
          "output_type": "stream",
          "name": "stdout",
          "text": [
            "(8,)\n",
            "(4, 2)\n"
          ]
        }
      ]
    },
    {
      "cell_type": "markdown",
      "source": [
        "**SIGMOID FUNCTION USING NUMPY ARRAY**"
      ],
      "metadata": {
        "id": "fiLrd-Wi9AMS"
      }
    },
    {
      "cell_type": "markdown",
      "source": [
        "Before using np.exp(), you will use math.exp() to implement the sigmoid \n",
        "\n",
        "function. You will then see why np.exp() is preferable to math.exp().\n",
        "\n"
      ],
      "metadata": {
        "id": "_Ey5IYa-3ez1"
      }
    },
    {
      "cell_type": "markdown",
      "source": [
        "Build a function that returns the sigmoid of a real number x. Use math.exp(x) for the exponential function.\n",
        "Search for sigmoid function on internet"
      ],
      "metadata": {
        "id": "AcvIQjCl3gjV"
      }
    },
    {
      "cell_type": "markdown",
      "source": [
        "To refer to a function belonging to a specific package you could call it using package_name.function(). Run the code below to see an example with math.exp()."
      ],
      "metadata": {
        "id": "T46ti1R43tHu"
      }
    },
    {
      "cell_type": "code",
      "source": [
        "import math\n",
        "\n",
        "# GRADED FUNCTION: basic_sigmoid\n",
        "\n",
        "def basic_sigmoid(x):\n",
        "    \"\"\"\n",
        "    Compute sigmoid of x.\n",
        "\n",
        "    Arguments:\n",
        "    x -- A scalar\n",
        "\n",
        "    Return:\n",
        "    s -- sigmoid(x)\n",
        "    \"\"\"\n",
        "    # (≈ 1 line of code)\n",
        "    # s = \n",
        "    # YOUR CODE STARTS HERE\n",
        "    e = math.exp(x)\n",
        "    s = e/(1+e)\n",
        "    \n",
        "    # YOUR CODE ENDS HERE\n",
        "    \n",
        "    return s"
      ],
      "metadata": {
        "id": "1eD6tS8x39Nn"
      },
      "execution_count": 6,
      "outputs": []
    },
    {
      "cell_type": "markdown",
      "source": [
        "Actually, we rarely use the \"math\" library in deep learning because the inputs of the functions are real numbers. In deep learning we mostly use matrices and vectors. This is why numpy is more useful."
      ],
      "metadata": {
        "id": "aJ2NtCF14Lqp"
      }
    },
    {
      "cell_type": "code",
      "source": [
        "### One reason why we use \"numpy\" instead of \"math\" in Deep Learning ###\n",
        "\n",
        "x = [1, 2, 3] # x becomes a python list object\n",
        "basic_sigmoid(x) # you will see this give an error when you run it, because x is a vector."
      ],
      "metadata": {
        "id": "DVNF1lR44MZz"
      },
      "execution_count": null,
      "outputs": []
    },
    {
      "cell_type": "markdown",
      "source": [
        "In fact, if  𝑥=(𝑥1,𝑥2,...,𝑥𝑛)  is a row vector then np.exp(x) will apply the exponential function to every element of x. The output will thus be: np.exp(x) = (e^{x_1}, e^{x_2}, ..., e^{x_n})"
      ],
      "metadata": {
        "id": "1cIxHz5B4SIl"
      }
    },
    {
      "cell_type": "code",
      "source": [
        "import numpy as np\n",
        "\n",
        "# example of np.exp\n",
        "t_x = np.array([1, 2, 3])\n",
        "print(np.exp(t_x)) # result is (exp(1), exp(2), exp(3))"
      ],
      "metadata": {
        "id": "CUslCcu64eU9",
        "colab": {
          "base_uri": "https://localhost:8080/"
        },
        "outputId": "bd60d9c9-0afd-4e19-bfa2-363f322ba401"
      },
      "execution_count": 7,
      "outputs": [
        {
          "output_type": "stream",
          "name": "stdout",
          "text": [
            "[ 2.71828183  7.3890561  20.08553692]\n"
          ]
        }
      ]
    },
    {
      "cell_type": "markdown",
      "source": [
        "**SIGMOID FUNCTION**"
      ],
      "metadata": {
        "id": "08a4mF4x4kDQ"
      }
    },
    {
      "cell_type": "markdown",
      "source": [
        "Implement the sigmoid function using numpy.\n",
        "\n",
        "Instructions: x could now be either a real number, a vector, or a matrix. The data structures we use in numpy to represent these shapes (vectors, matrices...) are called numpy arrays. You don't need to know more for now"
      ],
      "metadata": {
        "id": "lrjahPsh46Ht"
      }
    },
    {
      "cell_type": "code",
      "source": [
        "# GRADED FUNCTION: sigmoid\n",
        "\n",
        "def sigmoid(x):\n",
        "    \"\"\"\n",
        "    Compute the sigmoid of x\n",
        "\n",
        "    Arguments:\n",
        "    x -- A scalar or numpy array of any size\n",
        "\n",
        "    Return:\n",
        "    s -- sigmoid(x)\n",
        "    \"\"\"\n",
        "    \n",
        "    # (≈ 1 line of code)\n",
        "    # s = \n",
        "    # YOUR CODE STARTS HERE\n",
        "    e = np.exp(x)\n",
        "    s = e/(1+e)\n",
        "    # YOUR CODE ENDS HERE\n",
        "    \n",
        "    return s"
      ],
      "metadata": {
        "id": "BGH86oUh466R"
      },
      "execution_count": 8,
      "outputs": []
    },
    {
      "cell_type": "markdown",
      "source": [
        "**TRANSPOSE OF A MATRIX USING FOR LOOP**"
      ],
      "metadata": {
        "id": "tgbE_iixpHN5"
      }
    },
    {
      "cell_type": "markdown",
      "source": [
        "Input : A 3 X 3 sample matrix of your choice\n",
        "\n",
        "Output : Transpose of that matrix\n",
        "\n",
        "Note : Use For loop and numpy library"
      ],
      "metadata": {
        "id": "qfM1VRUSpSey"
      }
    },
    {
      "cell_type": "code",
      "source": [
        "import numpy as np\n",
        "#specify sample input here using numpy library\n",
        "arr=np.array([[1,2,3],[4,5,6],[7,8,9]])\n",
        "#insert code here\n",
        "for i in range(3):\n",
        "  for j in range(i+1,3):\n",
        "    arr[i][j],arr[j][i]=arr[j][i],arr[i][j]\n",
        "print(arr)"
      ],
      "metadata": {
        "id": "CMNQRYI6qA6c",
        "colab": {
          "base_uri": "https://localhost:8080/"
        },
        "outputId": "266ce397-1a87-4460-8978-1af69037c90f"
      },
      "execution_count": 9,
      "outputs": [
        {
          "output_type": "stream",
          "name": "stdout",
          "text": [
            "[[1 4 7]\n",
            " [2 5 8]\n",
            " [3 6 9]]\n"
          ]
        }
      ]
    },
    {
      "cell_type": "markdown",
      "source": [
        "**PANDAS**"
      ],
      "metadata": {
        "id": "uAzP2IlcqNgO"
      }
    },
    {
      "cell_type": "markdown",
      "source": [
        "Pandas framework is used to edit and access dataframes making them more accessible while using in machine learning and similiar fields of study. \n",
        "Here are three questions based upon the same to help you develop a basic idea."
      ],
      "metadata": {
        "id": "FjJL9l_VqN22"
      }
    },
    {
      "cell_type": "markdown",
      "source": [
        "**WORKING WITH STRINGS**"
      ],
      "metadata": {
        "id": "fwWJPFwhqOII"
      }
    },
    {
      "cell_type": "markdown",
      "source": [
        "Write a pandas program to perform some operations on a series of strings as follows:\n",
        "\n",
        "1. remove vowels from all strings\n",
        "2. convert the strings to lowercase\n",
        "3. convert the first and third(if it exists) character to upper case\n",
        "4. sort the series\n",
        "Note : The series of string will be in a csv file.\n",
        "You need to code with a sample input from your end and specify it"
      ],
      "metadata": {
        "id": "vWpAZ76wq1aA"
      }
    },
    {
      "cell_type": "code",
      "source": [
        "import pandas as pd\n",
        "#code here\n",
        "dict1={\"strings\":['Aryan','Utkarsh','Rishabh','Rohan','Eesh']}\n",
        "df=pd.DataFrame(dict1)\n",
        "n1=len(df['strings'])\n",
        "n2=0\n",
        "for i in range (0,n1):\n",
        "    n2=len(df['strings'][i])\n",
        "    s=df['strings'][i]\n",
        "    s1=\"\"\n",
        "    v=['a','e','i','o','u']\n",
        "    for j in range (0,n2):\n",
        "        if s[j].lower() not in v:\n",
        "            s1+=s[j]\n",
        "    df['strings'][i]=s1\n",
        "\n",
        "for k in range (0,n1):\n",
        "  df['strings'][k]=df['strings'][k].lower()\n",
        "  for p in range (0,len(df['strings'][k])):\n",
        "    if (p==0 or p==2):\n",
        "      df['strings'][k]=df['strings'][k].replace(df['strings'][k][p],df['strings'][k][p].upper())\n",
        " \n",
        "df=df['strings'].sort_values(ascending=True)\n",
        "print(df)\n",
        "\n"
      ],
      "metadata": {
        "id": "TAYP4pyIrRvj",
        "colab": {
          "base_uri": "https://localhost:8080/"
        },
        "outputId": "b653a024-b776-4412-c3bb-78516b3a275a"
      },
      "execution_count": 10,
      "outputs": [
        {
          "output_type": "stream",
          "name": "stdout",
          "text": [
            "3      RhN\n",
            "2    RsHbH\n",
            "0      RyN\n",
            "4       Sh\n",
            "1    TkRsh\n",
            "Name: strings, dtype: object\n"
          ]
        }
      ]
    },
    {
      "cell_type": "markdown",
      "source": [
        "**DICTIONARY PROBLEM**"
      ],
      "metadata": {
        "id": "yldyWDD9rUpC"
      }
    },
    {
      "cell_type": "markdown",
      "source": [
        "Write a Pandas program to create and display a DataFrame from a specified dictionary data which has the index labels. \n",
        "\n",
        "Here is a example for your reference:\n",
        "\n",
        "\n",
        "Sample Python dictionary data and list labels:\n",
        "exam_data = {'name': ['Anastasia', 'Dima', 'Katherine', 'James', 'Emily', 'Michael', 'Matthew', 'Laura', 'Kevin', 'Jonas'],\n",
        "'score': [12.5, 9, 16.5, np.nan, 9, 20, 14.5, np.nan, 8, 19],\n",
        "'attempts': [1, 3, 2, 3, 2, 3, 1, 1, 2, 1],\n",
        "'qualify': ['yes', 'no', 'yes', 'no', 'no', 'yes', 'yes', 'no', 'no', 'yes']}\n",
        "labels = ['a', 'b', 'c', 'd', 'e', 'f', 'g', 'h', 'i', 'j']\n",
        "\n",
        "\n",
        "Expected Output:\n",
        "\n",
        "\n",
        "attempts name qualify score\n",
        "\n",
        "\n",
        "a 1 Anastasia yes 12.5\n",
        "\n",
        "\n",
        "b 3 Dima no 9.0\n",
        "\n",
        "\n",
        "i 2 Kevin no 8.0\n",
        "\n",
        "\n",
        "j 1 Jonas yes 19.\n",
        "\n",
        "Note : The data will again we saved in a input file that needs to be specified by you. The data will be present in format mentioned. "
      ],
      "metadata": {
        "id": "SOMKlIQkrnla"
      }
    },
    {
      "cell_type": "markdown",
      "source": [
        "**FOLLOW UP FOR Q2 on Pandas**"
      ],
      "metadata": {
        "id": "RpQ-FVssr4dv"
      }
    },
    {
      "cell_type": "markdown",
      "source": [
        "Write a pandas program to select the rows with number of attempts > 2 for the same input dataframe"
      ],
      "metadata": {
        "id": "jw_SojBVsYQH"
      }
    },
    {
      "cell_type": "code",
      "source": [
        "#answer here\n",
        "import pandas as pd\n",
        "examdata={\"name\":['Anastasia', 'Dima', 'Katherine', 'James', 'Emily', 'Michael', 'Matthew', 'Laura', 'Kevin', 'Jonas'],\n",
        "          \"score\":[12.5, 9, 16.5,21, 9, 20, 14.5,16, 8, 19],\n",
        "          \"attempts\": [1, 3, 2, 3, 2, 3, 1, 1, 2, 1],\n",
        "          \"qualify\": ['yes', 'no', 'yes', 'no', 'no', 'yes', 'yes', 'no', 'no', 'yes']}\n",
        "df=pd.DataFrame(examdata)\n",
        "df.loc[(df['attempts']>2)]"
      ],
      "metadata": {
        "id": "PG4DA2YcskMa",
        "colab": {
          "base_uri": "https://localhost:8080/",
          "height": 143
        },
        "outputId": "cb5a10a2-f3b9-4d24-81a7-7c4acb32ba74"
      },
      "execution_count": 11,
      "outputs": [
        {
          "output_type": "execute_result",
          "data": {
            "text/plain": [
              "      name  score  attempts qualify\n",
              "1     Dima    9.0         3      no\n",
              "3    James   21.0         3      no\n",
              "5  Michael   20.0         3     yes"
            ],
            "text/html": [
              "\n",
              "  <div id=\"df-1c3f87de-521c-44ab-904f-d83eaca8b962\">\n",
              "    <div class=\"colab-df-container\">\n",
              "      <div>\n",
              "<style scoped>\n",
              "    .dataframe tbody tr th:only-of-type {\n",
              "        vertical-align: middle;\n",
              "    }\n",
              "\n",
              "    .dataframe tbody tr th {\n",
              "        vertical-align: top;\n",
              "    }\n",
              "\n",
              "    .dataframe thead th {\n",
              "        text-align: right;\n",
              "    }\n",
              "</style>\n",
              "<table border=\"1\" class=\"dataframe\">\n",
              "  <thead>\n",
              "    <tr style=\"text-align: right;\">\n",
              "      <th></th>\n",
              "      <th>name</th>\n",
              "      <th>score</th>\n",
              "      <th>attempts</th>\n",
              "      <th>qualify</th>\n",
              "    </tr>\n",
              "  </thead>\n",
              "  <tbody>\n",
              "    <tr>\n",
              "      <th>1</th>\n",
              "      <td>Dima</td>\n",
              "      <td>9.0</td>\n",
              "      <td>3</td>\n",
              "      <td>no</td>\n",
              "    </tr>\n",
              "    <tr>\n",
              "      <th>3</th>\n",
              "      <td>James</td>\n",
              "      <td>21.0</td>\n",
              "      <td>3</td>\n",
              "      <td>no</td>\n",
              "    </tr>\n",
              "    <tr>\n",
              "      <th>5</th>\n",
              "      <td>Michael</td>\n",
              "      <td>20.0</td>\n",
              "      <td>3</td>\n",
              "      <td>yes</td>\n",
              "    </tr>\n",
              "  </tbody>\n",
              "</table>\n",
              "</div>\n",
              "      <button class=\"colab-df-convert\" onclick=\"convertToInteractive('df-1c3f87de-521c-44ab-904f-d83eaca8b962')\"\n",
              "              title=\"Convert this dataframe to an interactive table.\"\n",
              "              style=\"display:none;\">\n",
              "        \n",
              "  <svg xmlns=\"http://www.w3.org/2000/svg\" height=\"24px\"viewBox=\"0 0 24 24\"\n",
              "       width=\"24px\">\n",
              "    <path d=\"M0 0h24v24H0V0z\" fill=\"none\"/>\n",
              "    <path d=\"M18.56 5.44l.94 2.06.94-2.06 2.06-.94-2.06-.94-.94-2.06-.94 2.06-2.06.94zm-11 1L8.5 8.5l.94-2.06 2.06-.94-2.06-.94L8.5 2.5l-.94 2.06-2.06.94zm10 10l.94 2.06.94-2.06 2.06-.94-2.06-.94-.94-2.06-.94 2.06-2.06.94z\"/><path d=\"M17.41 7.96l-1.37-1.37c-.4-.4-.92-.59-1.43-.59-.52 0-1.04.2-1.43.59L10.3 9.45l-7.72 7.72c-.78.78-.78 2.05 0 2.83L4 21.41c.39.39.9.59 1.41.59.51 0 1.02-.2 1.41-.59l7.78-7.78 2.81-2.81c.8-.78.8-2.07 0-2.86zM5.41 20L4 18.59l7.72-7.72 1.47 1.35L5.41 20z\"/>\n",
              "  </svg>\n",
              "      </button>\n",
              "      \n",
              "  <style>\n",
              "    .colab-df-container {\n",
              "      display:flex;\n",
              "      flex-wrap:wrap;\n",
              "      gap: 12px;\n",
              "    }\n",
              "\n",
              "    .colab-df-convert {\n",
              "      background-color: #E8F0FE;\n",
              "      border: none;\n",
              "      border-radius: 50%;\n",
              "      cursor: pointer;\n",
              "      display: none;\n",
              "      fill: #1967D2;\n",
              "      height: 32px;\n",
              "      padding: 0 0 0 0;\n",
              "      width: 32px;\n",
              "    }\n",
              "\n",
              "    .colab-df-convert:hover {\n",
              "      background-color: #E2EBFA;\n",
              "      box-shadow: 0px 1px 2px rgba(60, 64, 67, 0.3), 0px 1px 3px 1px rgba(60, 64, 67, 0.15);\n",
              "      fill: #174EA6;\n",
              "    }\n",
              "\n",
              "    [theme=dark] .colab-df-convert {\n",
              "      background-color: #3B4455;\n",
              "      fill: #D2E3FC;\n",
              "    }\n",
              "\n",
              "    [theme=dark] .colab-df-convert:hover {\n",
              "      background-color: #434B5C;\n",
              "      box-shadow: 0px 1px 3px 1px rgba(0, 0, 0, 0.15);\n",
              "      filter: drop-shadow(0px 1px 2px rgba(0, 0, 0, 0.3));\n",
              "      fill: #FFFFFF;\n",
              "    }\n",
              "  </style>\n",
              "\n",
              "      <script>\n",
              "        const buttonEl =\n",
              "          document.querySelector('#df-1c3f87de-521c-44ab-904f-d83eaca8b962 button.colab-df-convert');\n",
              "        buttonEl.style.display =\n",
              "          google.colab.kernel.accessAllowed ? 'block' : 'none';\n",
              "\n",
              "        async function convertToInteractive(key) {\n",
              "          const element = document.querySelector('#df-1c3f87de-521c-44ab-904f-d83eaca8b962');\n",
              "          const dataTable =\n",
              "            await google.colab.kernel.invokeFunction('convertToInteractive',\n",
              "                                                     [key], {});\n",
              "          if (!dataTable) return;\n",
              "\n",
              "          const docLinkHtml = 'Like what you see? Visit the ' +\n",
              "            '<a target=\"_blank\" href=https://colab.research.google.com/notebooks/data_table.ipynb>data table notebook</a>'\n",
              "            + ' to learn more about interactive tables.';\n",
              "          element.innerHTML = '';\n",
              "          dataTable['output_type'] = 'display_data';\n",
              "          await google.colab.output.renderOutput(dataTable, element);\n",
              "          const docLink = document.createElement('div');\n",
              "          docLink.innerHTML = docLinkHtml;\n",
              "          element.appendChild(docLink);\n",
              "        }\n",
              "      </script>\n",
              "    </div>\n",
              "  </div>\n",
              "  "
            ]
          },
          "metadata": {},
          "execution_count": 11
        }
      ]
    }
  ]
}